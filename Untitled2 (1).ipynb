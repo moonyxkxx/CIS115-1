{
  "nbformat": 4,
  "nbformat_minor": 0,
  "metadata": {
    "colab": {
      "provenance": []
    },
    "kernelspec": {
      "name": "python3",
      "display_name": "Python 3"
    },
    "language_info": {
      "name": "python"
    }
  },
  "cells": [
    {
      "cell_type": "code",
      "execution_count": null,
      "metadata": {
        "id": "MVjHszx-0POF"
      },
      "outputs": [],
      "source": [
        "option=int (input(\"do you want to call hero or a villan choose 1 for hero 2 for villan\"))\n",
        "if(option==1):\n",
        "  print(\"superman,batman 3,4 correspondingly\")\n",
        "  option=int (input(\"1 for super man 2 for batman\"))\n",
        "  if(option==1):\n",
        "    print(\"hi this is super man\")\n",
        "  elif(option==2):\n",
        "    print(\"hi this is batman\")\n",
        "  else:\n",
        "     print(\"wrong\")\n",
        "elif(option==2):\n",
        "  print (\"poisionivy,joker,\")\n",
        "  option=int (input(\"1 for poison ivy and 2 for joker\"))\n",
        "  if(option==1):\n",
        "    print(\"hi this is poision ivy\")\n",
        "  elif(option==2):\n",
        "    print(\"hi this is joker\")\n",
        "  else:\n",
        "      print(\"wrong\")\n",
        "else:\n",
        "  print(\"wrong\")"
      ]
    }
  ]
}